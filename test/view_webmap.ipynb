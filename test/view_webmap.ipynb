{
 "cells": [
  {
   "cell_type": "code",
   "execution_count": 1,
   "id": "1055ebb7",
   "metadata": {},
   "outputs": [],
   "source": [
    "import sys\n",
    "sys.path.append(r\"C:\\Users\\C21252\\PycharmProjects\\ARCGIS_DEV\\25_Arcgis_Map_Interaction\")"
   ]
  },
  {
   "cell_type": "code",
   "execution_count": 2,
   "id": "d9bc0a17",
   "metadata": {},
   "outputs": [
    {
     "name": "stdout",
     "output_type": "stream",
     "text": [
      "75\n"
     ]
    }
   ],
   "source": [
    "from arcgis.gis import GIS\n",
    "from arcgis.mapping import WebMap\n",
    "from arcgis.widgets import MapView\n",
    "from src import MapServices\n",
    "from arcgis.mapping import MapImageLayer\n",
    "import webbrowser\n",
    "\n",
    "URL = \"https://geohwp.houstontx.gov/arcgis/rest/services\"\n",
    "map_services = MapServices(URL).mapservices\n",
    "print(len(map_services))\n",
    "\n"
   ]
  },
  {
   "cell_type": "code",
   "execution_count": 3,
   "id": "9438f83e",
   "metadata": {},
   "outputs": [
    {
     "data": {
      "application/vnd.jupyter.widget-view+json": {
       "model_id": "b6c131f2d6284e6e961610e3f5776c97",
       "version_major": 2,
       "version_minor": 0
      },
      "text/plain": [
       "MapView(hide_mode_switch=True, layout=Layout(height='400px', width='100%'))"
      ]
     },
     "metadata": {},
     "output_type": "display_data"
    },
    {
     "data": {
      "text/html": [
       "<div class=\"map-static-img-preview-c85434f8-cedd-4551-ae3c-e85c45ef9f6f\"><img src=\"\"></img></div>"
      ],
      "text/plain": [
       "<IPython.core.display.HTML object>"
      ]
     },
     "metadata": {},
     "output_type": "display_data"
    },
    {
     "data": {
      "text/html": [
       "<div class=\"map-html-embed-preview-c85434f8-cedd-4551-ae3c-e85c45ef9f6f\"></div>"
      ],
      "text/plain": [
       "<IPython.core.display.HTML object>"
      ]
     },
     "metadata": {},
     "output_type": "display_data"
    }
   ],
   "source": [
    "# Create a GIS object for ArcGIS Online (you can also authenticate with your credentials)\n",
    "gis = GIS()\n",
    "\n",
    "# Create a new WebMap object\n",
    "webmap = WebMap()\n",
    "\n",
    "# Add map services\n",
    "service_urls = []\n",
    "\n",
    "#add the first 4 map services to service_u\n",
    "for i in range(len(map_services)):\n",
    "    service_urls.append(map_services[i])\n",
    "\n",
    "# Add each service to the WebMap\n",
    "for url in service_urls:\n",
    "    try:\n",
    "        layer = MapImageLayer(url=url)\n",
    "        webmap.add_layer(layer)\n",
    "    except Exception as e:\n",
    "        print(url)\n",
    "        print(e)\n",
    "\n",
    "# Display the map\n",
    "webmap\n"
   ]
  }
 ],
 "metadata": {
  "kernelspec": {
   "display_name": "Python 3",
   "language": "python",
   "name": "python3"
  },
  "language_info": {
   "codemirror_mode": {
    "name": "ipython",
    "version": 3
   },
   "file_extension": ".py",
   "mimetype": "text/x-python",
   "name": "python",
   "nbconvert_exporter": "python",
   "pygments_lexer": "ipython3",
   "version": "3.7.11"
  }
 },
 "nbformat": 4,
 "nbformat_minor": 5
}
