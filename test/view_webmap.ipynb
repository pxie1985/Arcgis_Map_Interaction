{
 "cells": [
  {
   "cell_type": "code",
   "execution_count": 11,
   "id": "8d7a61da",
   "metadata": {},
   "outputs": [],
   "source": [
    "import sys\n",
    "sys.path.append(r\"C:\\Users\\C21252\\PycharmProjects\\ARCGIS_DEV\\25_Arcgis_Map_Interaction\")"
   ]
  },
  {
   "cell_type": "code",
   "execution_count": 16,
   "id": "49f66e9c",
   "metadata": {},
   "outputs": [
    {
     "name": "stdout",
     "output_type": "stream",
     "text": [
      "77\n"
     ]
    }
   ],
   "source": [
    "from arcgis.gis import GIS\n",
    "from arcgis.mapping import WebMap\n",
    "from arcgis.widgets import MapView\n",
    "from src import MapServices\n",
    "from arcgis.mapping import MapImageLayer\n",
    "import webbrowser\n",
    "\n",
    "URL = \"https://geohwp.houstontx.gov/arcgis/rest/services\"\n",
    "map_services = MapServices(URL).mapservices\n",
    "print(len(map_services))\n",
    "\n"
   ]
  },
  {
   "cell_type": "code",
   "execution_count": 22,
   "id": "69ae3a17",
   "metadata": {},
   "outputs": [
    {
     "name": "stdout",
     "output_type": "stream",
     "text": [
      "https://geohwp.houstontx.gov/arcgis/rest/services/04_BaseData_Operations/CAS_Consumption/MapServer\n",
      "Error handling service request :Could not find service. Service may be stopped or it may not be configured.\n",
      "(Error Code: 500)\n",
      "https://geohwp.houstontx.gov/arcgis/rest/services/Pipe_Profiling_Parameters/Pipe_Profiling_Parameters/MapServer\n",
      "Error handling service request :Could not find service. Service may be stopped or it may not be configured.\n",
      "(Error Code: 500)\n"
     ]
    },
    {
     "data": {
      "application/vnd.jupyter.widget-view+json": {
       "model_id": "8638123ccf6c42879e72174dd52ceb78",
       "version_major": 2,
       "version_minor": 0
      },
      "text/plain": [
       "MapView(hide_mode_switch=True, layout=Layout(height='400px', width='100%'))"
      ]
     },
     "metadata": {},
     "output_type": "display_data"
    },
    {
     "data": {
      "text/html": [
       "<div class=\"map-static-img-preview-137ec070-4729-4bb5-8c84-00047f7cd61b\"><img src=\"\"></img></div>"
      ],
      "text/plain": [
       "<IPython.core.display.HTML object>"
      ]
     },
     "metadata": {},
     "output_type": "display_data"
    },
    {
     "data": {
      "text/html": [
       "<div class=\"map-html-embed-preview-137ec070-4729-4bb5-8c84-00047f7cd61b\"></div>"
      ],
      "text/plain": [
       "<IPython.core.display.HTML object>"
      ]
     },
     "metadata": {},
     "output_type": "display_data"
    }
   ],
   "source": [
    "# Create a GIS object for ArcGIS Online (you can also authenticate with your credentials)\n",
    "gis = GIS()\n",
    "\n",
    "# Create a new WebMap object\n",
    "webmap = WebMap()\n",
    "\n",
    "# Add map services\n",
    "service_urls = []\n",
    "\n",
    "#add the first 4 map services to service_u\n",
    "for i in range(len(map_services)):\n",
    "    service_urls.append(map_services[i])\n",
    "\n",
    "# Add each service to the WebMap\n",
    "for url in service_urls:\n",
    "    try:\n",
    "        layer = MapImageLayer(url=url)\n",
    "        webmap.add_layer(layer)\n",
    "    except Exception as e:\n",
    "        print(url)\n",
    "        print(e)\n",
    "\n",
    "# Display the map\n",
    "webmap\n"
   ]
  }
 ],
 "metadata": {
  "kernelspec": {
   "display_name": "Python 3",
   "language": "python",
   "name": "python3"
  }
 },
 "nbformat": 4,
 "nbformat_minor": 5
}
